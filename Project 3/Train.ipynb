{
 "cells": [
  {
   "cell_type": "markdown",
   "metadata": {},
   "source": [
    "# Train"
   ]
  },
  {
   "cell_type": "markdown",
   "metadata": {},
   "source": [
    "## Import Libraries"
   ]
  },
  {
   "cell_type": "code",
   "execution_count": 5,
   "metadata": {},
   "outputs": [],
   "source": [
    "# torch\n",
    "import torch\n",
    "from torch import nn\n",
    "import torch.nn.functional as F\n",
    "from torch.optim import Adam, SGD\n",
    "from torch.utils.data import Dataset, DataLoader\n",
    "\n",
    "from tqdm import trange\n",
    "import numpy as np\n",
    "\n",
    "# import custom modules\n",
    "from UNet import UNet\n",
    "\n",
    "# config device\n",
    "device = torch.device(\"cuda\" if torch.cuda.is_available() else \"cpu\")\n",
    "cpu_device = torch.device(\"cpu\")"
   ]
  },
  {
   "cell_type": "markdown",
   "metadata": {},
   "source": [
    "## Load Data"
   ]
  },
  {
   "cell_type": "code",
   "execution_count": 13,
   "metadata": {},
   "outputs": [],
   "source": [
    "# load data from npy files\n",
    "class TrainImageDataset(Dataset):\n",
    "    def __init__(self, device: torch.DeviceObjType) -> None:\n",
    "        super().__init__()\n",
    "        self.device = device\n",
    "\n",
    "        low_resolution_x = np.load(\"./Data/low_resolution_x.npy\")\n",
    "        low_resolution_y = np.load(\"./Data/low_resolution_y.npy\")\n",
    "        high_resolution_x = np.load(\"./Data/high_resolution_x.npy\")\n",
    "        high_resolution_y = np.load(\"./Data/high_resolution_y.npy\")\n",
    "\n",
    "        self.train_x = np.concatenate((low_resolution_x, high_resolution_x), axis=0)\n",
    "        self.train_y = np.concatenate((low_resolution_y, high_resolution_y), axis=0)\n",
    "    \n",
    "    def __len__(self):\n",
    "        return self.train_x.shape[0]\n",
    "    \n",
    "    def __getitem__(self, idx):\n",
    "        x_i = torch.from_numpy(self.train_x[idx]).to(self.device).unsqueeze(0) # 添加channel dim\n",
    "        y_i = torch.from_numpy(self.train_y[idx]).to(self.device).unsqueeze(0)\n",
    "        return x_i, y_i\n",
    "\n",
    "train_dataset = TrainImageDataset(device)\n",
    "train_dataloader = DataLoader(train_dataset, batch_size=64, shuffle=True)"
   ]
  },
  {
   "cell_type": "markdown",
   "metadata": {},
   "source": [
    "## Train Model"
   ]
  },
  {
   "cell_type": "code",
   "execution_count": 14,
   "metadata": {},
   "outputs": [
    {
     "name": "stdout",
     "output_type": "stream",
     "text": [
      "torch.Size([64, 1, 112, 112])\n",
      "torch.Size([64, 1, 112, 112])\n"
     ]
    }
   ],
   "source": [
    "# 训练模型\n",
    "model = UNet(in_channels=1, out_channels=1, bilinear=True).to(device)\n",
    "optimizer = Adam(model.parameters(), lr=1e-3)\n",
    "\n",
    "epochs = 100\n",
    "with trange(epochs, desc=\"Model Training\") as t:\n",
    "    postfix = {}\n",
    "    for epoch in t:\n",
    "        for batch_x, batch_y in train_dataloader:\n",
    "            optimizer.zero_grad()\n",
    "            pred = model(batch_x)\n",
    "            loss = F.cross_entropy(pred, batch_y)\n",
    "            loss.backward()\n",
    "            optimizer.step()\n",
    "            \n",
    "            postfix[\"loss\": loss.detach().to(cpu_device).item()]\n",
    "            t.set_postfix(postfix)"
   ]
  }
 ],
 "metadata": {
  "kernelspec": {
   "display_name": "aml_project",
   "language": "python",
   "name": "python3"
  },
  "language_info": {
   "codemirror_mode": {
    "name": "ipython",
    "version": 3
   },
   "file_extension": ".py",
   "mimetype": "text/x-python",
   "name": "python",
   "nbconvert_exporter": "python",
   "pygments_lexer": "ipython3",
   "version": "3.11.5"
  }
 },
 "nbformat": 4,
 "nbformat_minor": 2
}
