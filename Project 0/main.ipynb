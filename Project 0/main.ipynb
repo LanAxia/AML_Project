{
 "cells": [
  {
   "cell_type": "markdown",
   "metadata": {},
   "source": [
    "# Project 0"
   ]
  },
  {
   "cell_type": "markdown",
   "metadata": {},
   "source": [
    "## Import Libraries"
   ]
  },
  {
   "cell_type": "code",
   "execution_count": 93,
   "metadata": {},
   "outputs": [],
   "source": [
    "import numpy as np\n",
    "import pandas as pd\n",
    "\n",
    "import sklearn\n",
    "from sklearn.preprocessing import StandardScaler\n",
    "from sklearn.model_selection import KFold\n",
    "from sklearn.cluster import KMeans\n",
    "from sklearn.gaussian_process.kernels import Matern, RBF\n",
    "from sklearn.gaussian_process import GaussianProcessRegressor\n",
    "\n",
    "import torch"
   ]
  },
  {
   "cell_type": "markdown",
   "metadata": {},
   "source": [
    "## Load Data"
   ]
  },
  {
   "cell_type": "code",
   "execution_count": 94,
   "metadata": {},
   "outputs": [],
   "source": [
    "# load and split data\n",
    "data_train = pd.read_csv('Data/train.csv', header=0, index_col=0)\n",
    "data_test = pd.read_csv('Data/test.csv', header=0, index_col=0)\n",
    "\n",
    "x_train, y_train = data_train.iloc[:, 1:].to_numpy(), data_train.iloc[:, 0].to_numpy().reshape((-1, 1))\n",
    "x_test = data_test.to_numpy()"
   ]
  },
  {
   "cell_type": "markdown",
   "metadata": {},
   "source": [
    "## Gaussian Regression"
   ]
  },
  {
   "cell_type": "code",
   "execution_count": 95,
   "metadata": {},
   "outputs": [],
   "source": [
    "scaler_x, scaler_y = StandardScaler(), StandardScaler()\n",
    "x_train = scaler_x.fit_transform(x_train)\n",
    "y_train = scaler_y.fit_transform(y_train)\n",
    "x_test = scaler_x.transform(x_test)"
   ]
  },
  {
   "cell_type": "code",
   "execution_count": 107,
   "metadata": {},
   "outputs": [
    {
     "data": {
      "text/html": [
       "<div>\n",
       "<style scoped>\n",
       "    .dataframe tbody tr th:only-of-type {\n",
       "        vertical-align: middle;\n",
       "    }\n",
       "\n",
       "    .dataframe tbody tr th {\n",
       "        vertical-align: top;\n",
       "    }\n",
       "\n",
       "    .dataframe thead th {\n",
       "        text-align: right;\n",
       "    }\n",
       "</style>\n",
       "<table border=\"1\" class=\"dataframe\">\n",
       "  <thead>\n",
       "    <tr style=\"text-align: right;\">\n",
       "      <th></th>\n",
       "      <th>Id</th>\n",
       "      <th>y</th>\n",
       "    </tr>\n",
       "  </thead>\n",
       "  <tbody>\n",
       "    <tr>\n",
       "      <th>0</th>\n",
       "      <td>10000</td>\n",
       "      <td>-66.138443</td>\n",
       "    </tr>\n",
       "    <tr>\n",
       "      <th>1</th>\n",
       "      <td>10001</td>\n",
       "      <td>452.242400</td>\n",
       "    </tr>\n",
       "    <tr>\n",
       "      <th>2</th>\n",
       "      <td>10002</td>\n",
       "      <td>-461.396098</td>\n",
       "    </tr>\n",
       "    <tr>\n",
       "      <th>3</th>\n",
       "      <td>10003</td>\n",
       "      <td>39.640058</td>\n",
       "    </tr>\n",
       "    <tr>\n",
       "      <th>4</th>\n",
       "      <td>10004</td>\n",
       "      <td>-126.675123</td>\n",
       "    </tr>\n",
       "  </tbody>\n",
       "</table>\n",
       "</div>"
      ],
      "text/plain": [
       "      Id           y\n",
       "0  10000  -66.138443\n",
       "1  10001  452.242400\n",
       "2  10002 -461.396098\n",
       "3  10003   39.640058\n",
       "4  10004 -126.675123"
      ]
     },
     "execution_count": 107,
     "metadata": {},
     "output_type": "execute_result"
    }
   ],
   "source": [
    "# create model\n",
    "class GPR_Predictor(object):\n",
    "    def __init__(self, n_clusters=20) -> None:\n",
    "        self.n_clusters = n_clusters\n",
    "        self.km = KMeans(n_clusters=self.n_clusters, random_state=0, n_init=\"auto\")\n",
    "        self.regressors = []\n",
    "    \n",
    "    def train(self, x_train, y_train) -> None:\n",
    "        self.km.fit(x_train)\n",
    "        for cluster_i in range(self.n_clusters):\n",
    "            x_cluster = x_train[self.km.labels_ == cluster_i]\n",
    "            y_cluster = y_train[self.km.labels_ == cluster_i].reshape((-1, 1))\n",
    "            regressor = GaussianProcessRegressor(kernel=Matern(length_scale=1, nu=1.5), random_state=0)\n",
    "            regressor.fit(x_cluster, y_cluster)\n",
    "            self.regressors.append(regressor)\n",
    "    \n",
    "    def predict(self, x_test) -> None:\n",
    "        x_test_labels = self.km.predict(x_test)\n",
    "        x_ids = np.arange(x_test.shape[0]).reshape((-1, 1))\n",
    "\n",
    "        y_clusters = []\n",
    "\n",
    "        for cluster_i in range(self.n_clusters):\n",
    "            x_cluster = x_test[x_test_labels == cluster_i]\n",
    "            x_cluster_ids = x_ids[x_test_labels == cluster_i]\n",
    "            y_cluster_mean, y_cluster_std = self.regressors[cluster_i].predict(x_cluster, return_std=True)\n",
    "            y_cluster_mean = y_cluster_mean.reshape((-1, 1))\n",
    "            y_cluster = np.concatenate([y_cluster_mean, x_cluster_ids], axis=1)\n",
    "            y_clusters.append(y_cluster)\n",
    "\n",
    "        y_test = np.concatenate(y_clusters, axis=0)\n",
    "        y_test = y_test[np.argsort(y_test[:, 1])][:, 0]\n",
    "        return y_test\n",
    "\n",
    "gpr = GPR_Predictor()\n",
    "gpr.train(x_train, y_train)\n",
    "y_test = scaler_y.inverse_transform(gpr.predict(x_test).reshape((-1, 1)))\n",
    "\n",
    "y_test_df = pd.DataFrame(y_test, columns=[\"y\"])\n",
    "y_test_df[\"Id\"] = data_test.index.tolist()\n",
    "y_test_df = y_test_df[[\"Id\", \"y\"]]\n",
    "y_test_df.head()"
   ]
  },
  {
   "cell_type": "markdown",
   "metadata": {},
   "source": [
    "## PyTorch"
   ]
  },
  {
   "cell_type": "code",
   "execution_count": 109,
   "metadata": {},
   "outputs": [
    {
     "data": {
      "text/plain": [
       "device(type='cuda')"
      ]
     },
     "execution_count": 109,
     "metadata": {},
     "output_type": "execute_result"
    }
   ],
   "source": [
    "# train\n",
    "if torch.cuda.is_available():\n",
    "    device = torch.device(\"cuda\")\n",
    "else:\n",
    "    device = torch.device(\"cpu\")\n",
    "\n",
    "x_train = torch.tensor(data_train.iloc[:, 1:].to_numpy())\n",
    "y_train = torch.tensor(data_train.iloc[:, 0].to_numpy()).reshape((-1, 1))\n",
    "\n",
    "torch."
   ]
  }
 ],
 "metadata": {
  "kernelspec": {
   "display_name": "base",
   "language": "python",
   "name": "python3"
  },
  "language_info": {
   "codemirror_mode": {
    "name": "ipython",
    "version": 3
   },
   "file_extension": ".py",
   "mimetype": "text/x-python",
   "name": "python",
   "nbconvert_exporter": "python",
   "pygments_lexer": "ipython3",
   "version": "3.11.5"
  }
 },
 "nbformat": 4,
 "nbformat_minor": 2
}
