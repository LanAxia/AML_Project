{
 "cells": [
  {
   "cell_type": "markdown",
   "metadata": {},
   "source": [
    "# Task 2"
   ]
  },
  {
   "cell_type": "markdown",
   "metadata": {},
   "source": [
    "## Import Libraries"
   ]
  },
  {
   "cell_type": "code",
   "execution_count": 1,
   "metadata": {
    "notebookRunGroups": {
     "groupValue": "1"
    }
   },
   "outputs": [],
   "source": [
    "# import library\n",
    "import os\n",
    "import numpy as np\n",
    "import pandas as pd\n",
    "import matplotlib.pyplot as plt\n",
    "\n",
    "# sklearn\n",
    "import sklearn\n",
    "from sklearn.preprocessing import StandardScaler, RobustScaler\n",
    "from sklearn.impute import KNNImputer, SimpleImputer\n",
    "from sklearn.model_selection import KFold, train_test_split, GridSearchCV\n",
    "from sklearn.feature_selection import RFECV, SelectKBest, r_regression, f_regression\n",
    "from sklearn.gaussian_process.kernels import Matern, RBF, CompoundKernel, Product, Sum, ExpSineSquared, RationalQuadratic\n",
    "from sklearn.gaussian_process import GaussianProcessRegressor\n",
    "from sklearn.svm import SVR\n",
    "from sklearn.ensemble import RandomForestRegressor, IsolationForest, GradientBoostingRegressor, AdaBoostRegressor, ExtraTreesRegressor\n",
    "from sklearn.kernel_ridge import KernelRidge\n",
    "from sklearn.linear_model import LinearRegression\n",
    "from sklearn.metrics import r2_score, make_scorer\n",
    "from sklearn.decomposition import PCA\n",
    "\n",
    "# boost algorithm\n",
    "import xgboost as xgb\n",
    "import catboost as cat\n",
    "import lightgbm as lgb\n",
    "\n",
    "# torch\n",
    "import torch\n",
    "from torch import nn\n",
    "from torch.nn import Module, Linear, Dropout\n",
    "from torch.nn.functional import tanh, softmax, mse_loss, relu, sigmoid\n",
    "from torch.optim import Adam, SGD\n",
    "\n",
    "# bio library\n",
    "import biosppy\n",
    "from biosppy import storage\n",
    "from biosppy.signals import ecg\n",
    "\n",
    "DATA_DIR = \"Data\""
   ]
  },
  {
   "cell_type": "markdown",
   "metadata": {},
   "source": [
    "## Data Preprocessing"
   ]
  },
  {
   "cell_type": "markdown",
   "metadata": {},
   "source": [
    "### Load Data"
   ]
  },
  {
   "cell_type": "code",
   "execution_count": 2,
   "metadata": {
    "notebookRunGroups": {
     "groupValue": "1"
    }
   },
   "outputs": [],
   "source": [
    "# Load Data\n",
    "X_train_df = pd.read_csv(os.path.join(DATA_DIR, \"X_train.csv\"), header=0, index_col=0)\n",
    "X_test_df = pd.read_csv(os.path.join(DATA_DIR, \"X_test.csv\"), header=0, index_col=0)\n",
    "y_train_df = pd.read_csv(os.path.join(DATA_DIR, \"y_train.csv\"), header=0, index_col=0)\n",
    "\n",
    "X_train = X_train_df.values\n",
    "X_test = X_test_df.values\n",
    "y_train = y_train_df.values.ravel()"
   ]
  },
  {
   "cell_type": "code",
   "execution_count": 3,
   "metadata": {
    "notebookRunGroups": {
     "groupValue": "1"
    }
   },
   "outputs": [],
   "source": [
    "# 获取有效长度\n",
    "X_train_len = []\n",
    "for row in X_train:\n",
    "    tail_id = np.where(np.isnan(row))[0]\n",
    "    if tail_id.shape[0] > 0:\n",
    "        X_train_len.append(tail_id[0])\n",
    "    else:\n",
    "        X_train_len.append(X_train.shape[1])\n",
    "\n",
    "X_test_len = []\n",
    "for row in X_test:\n",
    "    tail_id = np.where(np.isnan(row))[0]\n",
    "    if tail_id.shape[0] > 0:\n",
    "        X_test_len.append(tail_id[0])\n",
    "    else:\n",
    "        X_test_len.append(X_test.shape[1])\n",
    "\n",
    "X_train_len, X_test_len = np.array(X_train_len), np.array(X_test_len)"
   ]
  },
  {
   "cell_type": "code",
   "execution_count": 80,
   "metadata": {
    "notebookRunGroups": {
     "groupValue": ""
    }
   },
   "outputs": [],
   "source": [
    "# get ecg features (比较松)\n",
    "ts_lst = []\n",
    "filtered_lst = []\n",
    "rpeaks_lst = []\n",
    "templates_ts_lst = []\n",
    "templates_lst = []\n",
    "heart_rate_ts_lst = []\n",
    "heart_rate_lst = []\n",
    "\n",
    "def check_template_result(templates: np.ndarray) -> list:\n",
    "    # 检查有没有一个template里有多个心跳的情况\n",
    "    check_result = True\n",
    "    error_num = 0\n",
    "    error_ids = []\n",
    "    for template_i, template in enumerate(templates):\n",
    "        peak_threshold = np.max(template) * 0.7\n",
    "        peak_region = np.array(np.where(template > peak_threshold))\n",
    "        if np.max(peak_region) - np.min(peak_region) > 0.5 * template.shape[0]:\n",
    "            error_num += 1\n",
    "            error_ids.append(template_i)\n",
    "    return error_ids\n",
    "\n",
    "error_ids = []\n",
    "part_error_lst = []\n",
    "for i, (signal, sig_len) in enumerate(zip(X_train, X_train_len)):\n",
    "    ts, filtered, rpeaks, templates_ts, templates, heart_rate_ts, heart_rate = ecg.ecg(signal[:sig_len], sampling_rate=300., show=False)\n",
    "    # check template\n",
    "    # if check_ecg_result(templates) == False:\n",
    "    #     error_ids.append(i)\n",
    "    #     error_templates.append(templates)\n",
    "    #     continue\n",
    "    template_error_ids = check_template_result(templates)\n",
    "\n",
    "    # delete error data\n",
    "    rpeaks = np.delete(rpeaks, template_error_ids, axis=0)\n",
    "    templates_ts = np.delete(templates_ts, template_error_ids, axis=0)\n",
    "    templates = np.delete(templates, template_error_ids, axis=0)\n",
    "    if len(templates) < 1:\n",
    "        error_ids.append(i)\n",
    "        continue\n",
    "\n",
    "    if len(template_error_ids) > 0:\n",
    "        part_error_lst.append(len(ts_lst))\n",
    "\n",
    "    ts_lst.append(ts) # Signal time axis reference (seconds)\n",
    "    filtered_lst.append(filtered) # Filtered ECG signal\n",
    "    rpeaks_lst.append(rpeaks) # R-peak location indices\n",
    "    templates_ts_lst.append(templates_ts) # Templates time axis reference\n",
    "    templates_lst.append(templates) # Extracted heartbeat templates\n",
    "    heart_rate_ts_lst.append(heart_rate_ts) # Heart rate time axis reference (seconds)\n",
    "    heart_rate_lst.append(heart_rate) # Instantaneous heart rate (bpm)\n",
    "\n",
    "y_train = np.delete(y_train, error_ids, axis=0)"
   ]
  },
  {
   "cell_type": "code",
   "execution_count": 4,
   "metadata": {
    "notebookRunGroups": {
     "groupValue": "1"
    }
   },
   "outputs": [],
   "source": [
    "# get ecg features (比较严)\n",
    "ts_lst = []\n",
    "filtered_lst = []\n",
    "rpeaks_lst = []\n",
    "templates_ts_lst = []\n",
    "templates_lst = []\n",
    "heart_rate_ts_lst = []\n",
    "heart_rate_lst = []\n",
    "\n",
    "def check_template_result(templates: np.ndarray) -> list:\n",
    "    # 检查有没有一个template里有多个心跳的情况\n",
    "    check_result = True\n",
    "    error_num = 0\n",
    "    error_ids = []\n",
    "    for template_i, template in enumerate(templates):\n",
    "        peak_threshold = np.max(template) * 0.7\n",
    "        peak_region = np.array(np.where(template > peak_threshold))\n",
    "        if np.max(peak_region) - np.min(peak_region) > 0.5 * template.shape[0]:\n",
    "            error_num += 1\n",
    "            error_ids.append(template_i)\n",
    "    return error_ids\n",
    "\n",
    "error_ids = []\n",
    "for i, (signal, sig_len) in enumerate(zip(X_train, X_train_len)):\n",
    "    ts, filtered, rpeaks, templates_ts, templates, heart_rate_ts, heart_rate = ecg.ecg(signal[:sig_len], sampling_rate=300., show=False)\n",
    "    # check template\n",
    "    # if check_ecg_result(templates) == False:\n",
    "    #     error_ids.append(i)\n",
    "    #     error_templates.append(templates)\n",
    "    #     continue\n",
    "    template_error_ids = check_template_result(templates)\n",
    "    if len(template_error_ids) > 0:\n",
    "        error_ids.append(i)\n",
    "        continue\n",
    "\n",
    "    ts_lst.append(ts) # Signal time axis reference (seconds)\n",
    "    filtered_lst.append(filtered) # Filtered ECG signal\n",
    "    rpeaks_lst.append(rpeaks) # R-peak location indices\n",
    "    templates_ts_lst.append(templates_ts) # Templates time axis reference\n",
    "    templates_lst.append(templates) # Extracted heartbeat templates\n",
    "    heart_rate_ts_lst.append(heart_rate_ts) # Heart rate time axis reference (seconds)\n",
    "    heart_rate_lst.append(heart_rate) # Instantaneous heart rate (bpm)\n",
    "\n",
    "y_train = np.delete(y_train, error_ids, axis=0)"
   ]
  },
  {
   "cell_type": "code",
   "execution_count": 5,
   "metadata": {
    "notebookRunGroups": {
     "groupValue": "1"
    }
   },
   "outputs": [
    {
     "name": "stdout",
     "output_type": "stream",
     "text": [
      "class 0 count: 2653\n",
      "class 1 count: 275\n",
      "class 2 count: 1180\n",
      "class 3 count: 42\n"
     ]
    }
   ],
   "source": [
    "# 统计y_train的值\n",
    "class_0_num = np.sum(y_train == 0)\n",
    "class_1_num = np.sum(y_train == 1)\n",
    "class_2_num = np.sum(y_train == 2)\n",
    "class_3_num = np.sum(y_train == 3)\n",
    "print(\"class 0 count: {}\".format(class_0_num))\n",
    "print(\"class 1 count: {}\".format(class_1_num))\n",
    "print(\"class 2 count: {}\".format(class_2_num))\n",
    "print(\"class 3 count: {}\".format(class_3_num))"
   ]
  },
  {
   "cell_type": "code",
   "execution_count": 6,
   "metadata": {
    "notebookRunGroups": {
     "groupValue": "1"
    }
   },
   "outputs": [],
   "source": [
    "# get average template\n",
    "max_height = None\n",
    "for templates in templates_lst:\n",
    "    for template in templates:\n",
    "        if max_height is None or np.max(template) > max_height:\n",
    "            max_height = np.max(template)\n",
    "\n",
    "# scaler现在只是简单的缩放，不确定绝对高度有没有用\n",
    "def scaler(template: np.array):\n",
    "    result = template / max_height\n",
    "    return result\n",
    "\n",
    "templates_lst = [scaler(templates) for templates in templates_lst]\n",
    "\n",
    "def get_average_templates(templates):\n",
    "    templates = scaler(templates)\n",
    "    avg_templates = templates.sum(axis=0) / templates.shape[0]\n",
    "    return avg_templates\n",
    "\n",
    "avg_templates_lst = [get_average_templates(templates) for templates in templates_lst]"
   ]
  },
  {
   "cell_type": "code",
   "execution_count": 7,
   "metadata": {
    "notebookRunGroups": {
     "groupValue": "1"
    }
   },
   "outputs": [
    {
     "data": {
      "text/plain": [
       "168"
      ]
     },
     "execution_count": 7,
     "metadata": {},
     "output_type": "execute_result"
    },
    {
     "data": {
      "image/png": "[encoded data removed]",
      "text/plain": [
       "<Figure size 640x480 with 1 Axes>"
      ]
     },
     "metadata": {},
     "output_type": "display_data"
    }
   ],
   "source": [
    "# 测试获取RQPST\n",
    "templates = avg_templates_lst[10]\n",
    "\n",
    "def get_PQRST_from_template(template: np.array):\n",
    "    # get R\n",
    "    R_id = np.where(template == np.max(template))[0][0]\n",
    "    R = template[R_id]\n",
    "\n",
    "    # get Q\n",
    "    Q_id = np.where(template[:R_id] == np.min(template[:R_id]))[0][0]\n",
    "    Q = template[Q_id]\n",
    "\n",
    "    # get P\n",
    "    P_id = np.where(template[:Q_id] == np.max(template[:Q_id]))[0][0]\n",
    "    P = template[P_id]\n",
    "\n",
    "    # get S\n",
    "    S_id = np.where(template[R_id + 1:] == np.min(template[R_id + 1:]))[0][0] + R_id + 1\n",
    "    S = template[S_id]\n",
    "\n",
    "    # get T\n",
    "    T_id = np.where(template[S_id + 1:] == np.max(template[S_id + 1:]))[0][0] + S_id + 1\n",
    "    T = template[T_id]\n",
    "\n",
    "    assert (P_id < Q_id and Q_id < R_id and R_id < S_id and S_id < T_id)\n",
    "\n",
    "    # cal interval\n",
    "    QRS = S_id - Q_id\n",
    "    PR = R_id - P_id\n",
    "    PQ = R_id - Q_id\n",
    "    ST = T_id - S_id\n",
    "    QT = T_id - Q_id\n",
    "    return (P, Q, R, S, T), (P_id, Q_id, R_id, S_id, T_id), (QRS, PR, PQ, ST, QT)\n",
    "\n",
    "(P, Q, R, S, T), (P_id, Q_id, R_id, S_id, T_id), (QRS, PR, PQ, ST, QT) = get_PQRST_from_template(templates)\n",
    "\n",
    "plt.plot(np.arange(0, templates.shape[0], 1), templates)\n",
    "plt.scatter([P_id, Q_id, R_id, S_id, T_id], [P, Q, R, S, T], c=\"r\")\n",
    "T_id"
   ]
  },
  {
   "cell_type": "code",
   "execution_count": 8,
   "metadata": {
    "notebookRunGroups": {
     "groupValue": "1"
    }
   },
   "outputs": [
    {
     "ename": "ValueError",
     "evalue": "zero-size array to reduction operation maximum which has no identity",
     "output_type": "error",
     "traceback": [
      "\u001b[1;31m---------------------------------------------------------------------------\u001b[0m",
      "\u001b[1;31mValueError\u001b[0m                                Traceback (most recent call last)",
      "\u001b[1;32mc:\\Users\\Hongyi LAN\\Desktop\\AML_Project\\Project 2\\HonLAN.ipynb 单元格 13\u001b[0m line \u001b[0;36m2\n\u001b[0;32m      <a href='vscode-notebook-cell:/c%3A/Users/Hongyi%20LAN/Desktop/AML_Project/Project%202/HonLAN.ipynb#X13sZmlsZQ%3D%3D?line=3'>4</a>\u001b[0m template_PQRST \u001b[39m=\u001b[39m {\n\u001b[0;32m      <a href='vscode-notebook-cell:/c%3A/Users/Hongyi%20LAN/Desktop/AML_Project/Project%202/HonLAN.ipynb#X13sZmlsZQ%3D%3D?line=4'>5</a>\u001b[0m     \u001b[39m\"\u001b[39m\u001b[39mP\u001b[39m\u001b[39m\"\u001b[39m: [], \n\u001b[0;32m      <a href='vscode-notebook-cell:/c%3A/Users/Hongyi%20LAN/Desktop/AML_Project/Project%202/HonLAN.ipynb#X13sZmlsZQ%3D%3D?line=5'>6</a>\u001b[0m     \u001b[39m\"\u001b[39m\u001b[39mQ\u001b[39m\u001b[39m\"\u001b[39m: [], \n\u001b[1;32m   (...)\u001b[0m\n\u001b[0;32m     <a href='vscode-notebook-cell:/c%3A/Users/Hongyi%20LAN/Desktop/AML_Project/Project%202/HonLAN.ipynb#X13sZmlsZQ%3D%3D?line=18'>19</a>\u001b[0m     \u001b[39m\"\u001b[39m\u001b[39mQT\u001b[39m\u001b[39m\"\u001b[39m: [], \n\u001b[0;32m     <a href='vscode-notebook-cell:/c%3A/Users/Hongyi%20LAN/Desktop/AML_Project/Project%202/HonLAN.ipynb#X13sZmlsZQ%3D%3D?line=19'>20</a>\u001b[0m }\n\u001b[0;32m     <a href='vscode-notebook-cell:/c%3A/Users/Hongyi%20LAN/Desktop/AML_Project/Project%202/HonLAN.ipynb#X13sZmlsZQ%3D%3D?line=20'>21</a>\u001b[0m \u001b[39mfor\u001b[39;00m template_i, template \u001b[39min\u001b[39;00m \u001b[39menumerate\u001b[39m(templates):\n\u001b[1;32m---> <a href='vscode-notebook-cell:/c%3A/Users/Hongyi%20LAN/Desktop/AML_Project/Project%202/HonLAN.ipynb#X13sZmlsZQ%3D%3D?line=21'>22</a>\u001b[0m     (P, Q, R, S, T), (P_id, Q_id, R_id, S_id, T_id), (QRS, PR, PQ, ST, QT) \u001b[39m=\u001b[39m get_PQRST_from_template(template)\n\u001b[0;32m     <a href='vscode-notebook-cell:/c%3A/Users/Hongyi%20LAN/Desktop/AML_Project/Project%202/HonLAN.ipynb#X13sZmlsZQ%3D%3D?line=22'>23</a>\u001b[0m     template_PQRST[\u001b[39m\"\u001b[39m\u001b[39mP\u001b[39m\u001b[39m\"\u001b[39m]\u001b[39m.\u001b[39mappend(P)\n\u001b[0;32m     <a href='vscode-notebook-cell:/c%3A/Users/Hongyi%20LAN/Desktop/AML_Project/Project%202/HonLAN.ipynb#X13sZmlsZQ%3D%3D?line=23'>24</a>\u001b[0m     template_PQRST[\u001b[39m\"\u001b[39m\u001b[39mQ\u001b[39m\u001b[39m\"\u001b[39m]\u001b[39m.\u001b[39mappend(Q)\n",
      "\u001b[1;32mc:\\Users\\Hongyi LAN\\Desktop\\AML_Project\\Project 2\\HonLAN.ipynb 单元格 13\u001b[0m line \u001b[0;36m2\n\u001b[0;32m     <a href='vscode-notebook-cell:/c%3A/Users/Hongyi%20LAN/Desktop/AML_Project/Project%202/HonLAN.ipynb#X13sZmlsZQ%3D%3D?line=18'>19</a>\u001b[0m S \u001b[39m=\u001b[39m template[S_id]\n\u001b[0;32m     <a href='vscode-notebook-cell:/c%3A/Users/Hongyi%20LAN/Desktop/AML_Project/Project%202/HonLAN.ipynb#X13sZmlsZQ%3D%3D?line=20'>21</a>\u001b[0m \u001b[39m# get T\u001b[39;00m\n\u001b[1;32m---> <a href='vscode-notebook-cell:/c%3A/Users/Hongyi%20LAN/Desktop/AML_Project/Project%202/HonLAN.ipynb#X13sZmlsZQ%3D%3D?line=21'>22</a>\u001b[0m T_id \u001b[39m=\u001b[39m np\u001b[39m.\u001b[39mwhere(template[S_id \u001b[39m+\u001b[39m \u001b[39m1\u001b[39m:] \u001b[39m==\u001b[39m np\u001b[39m.\u001b[39;49mmax(template[S_id \u001b[39m+\u001b[39;49m \u001b[39m1\u001b[39;49m:]))[\u001b[39m0\u001b[39m][\u001b[39m0\u001b[39m] \u001b[39m+\u001b[39m S_id \u001b[39m+\u001b[39m \u001b[39m1\u001b[39m\n\u001b[0;32m     <a href='vscode-notebook-cell:/c%3A/Users/Hongyi%20LAN/Desktop/AML_Project/Project%202/HonLAN.ipynb#X13sZmlsZQ%3D%3D?line=22'>23</a>\u001b[0m T \u001b[39m=\u001b[39m template[T_id]\n\u001b[0;32m     <a href='vscode-notebook-cell:/c%3A/Users/Hongyi%20LAN/Desktop/AML_Project/Project%202/HonLAN.ipynb#X13sZmlsZQ%3D%3D?line=24'>25</a>\u001b[0m \u001b[39massert\u001b[39;00m (P_id \u001b[39m<\u001b[39m Q_id \u001b[39mand\u001b[39;00m Q_id \u001b[39m<\u001b[39m R_id \u001b[39mand\u001b[39;00m R_id \u001b[39m<\u001b[39m S_id \u001b[39mand\u001b[39;00m S_id \u001b[39m<\u001b[39m T_id)\n",
      "File \u001b[1;32mc:\\Users\\Hongyi LAN\\miniconda3\\envs\\aml_project\\lib\\site-packages\\numpy\\core\\fromnumeric.py:2810\u001b[0m, in \u001b[0;36mmax\u001b[1;34m(a, axis, out, keepdims, initial, where)\u001b[0m\n\u001b[0;32m   2692\u001b[0m \u001b[39m@array_function_dispatch\u001b[39m(_max_dispatcher)\n\u001b[0;32m   2693\u001b[0m \u001b[39m@set_module\u001b[39m(\u001b[39m'\u001b[39m\u001b[39mnumpy\u001b[39m\u001b[39m'\u001b[39m)\n\u001b[0;32m   2694\u001b[0m \u001b[39mdef\u001b[39;00m \u001b[39mmax\u001b[39m(a, axis\u001b[39m=\u001b[39m\u001b[39mNone\u001b[39;00m, out\u001b[39m=\u001b[39m\u001b[39mNone\u001b[39;00m, keepdims\u001b[39m=\u001b[39mnp\u001b[39m.\u001b[39m_NoValue, initial\u001b[39m=\u001b[39mnp\u001b[39m.\u001b[39m_NoValue,\n\u001b[0;32m   2695\u001b[0m          where\u001b[39m=\u001b[39mnp\u001b[39m.\u001b[39m_NoValue):\n\u001b[0;32m   2696\u001b[0m \u001b[39m    \u001b[39m\u001b[39m\"\"\"\u001b[39;00m\n\u001b[0;32m   2697\u001b[0m \u001b[39m    Return the maximum of an array or maximum along an axis.\u001b[39;00m\n\u001b[0;32m   2698\u001b[0m \n\u001b[1;32m   (...)\u001b[0m\n\u001b[0;32m   2808\u001b[0m \u001b[39m    5\u001b[39;00m\n\u001b[0;32m   2809\u001b[0m \u001b[39m    \"\"\"\u001b[39;00m\n\u001b[1;32m-> 2810\u001b[0m     \u001b[39mreturn\u001b[39;00m _wrapreduction(a, np\u001b[39m.\u001b[39;49mmaximum, \u001b[39m'\u001b[39;49m\u001b[39mmax\u001b[39;49m\u001b[39m'\u001b[39;49m, axis, \u001b[39mNone\u001b[39;49;00m, out,\n\u001b[0;32m   2811\u001b[0m                           keepdims\u001b[39m=\u001b[39;49mkeepdims, initial\u001b[39m=\u001b[39;49minitial, where\u001b[39m=\u001b[39;49mwhere)\n",
      "File \u001b[1;32mc:\\Users\\Hongyi LAN\\miniconda3\\envs\\aml_project\\lib\\site-packages\\numpy\\core\\fromnumeric.py:88\u001b[0m, in \u001b[0;36m_wrapreduction\u001b[1;34m(obj, ufunc, method, axis, dtype, out, **kwargs)\u001b[0m\n\u001b[0;32m     85\u001b[0m         \u001b[39melse\u001b[39;00m:\n\u001b[0;32m     86\u001b[0m             \u001b[39mreturn\u001b[39;00m reduction(axis\u001b[39m=\u001b[39maxis, out\u001b[39m=\u001b[39mout, \u001b[39m*\u001b[39m\u001b[39m*\u001b[39mpasskwargs)\n\u001b[1;32m---> 88\u001b[0m \u001b[39mreturn\u001b[39;00m ufunc\u001b[39m.\u001b[39mreduce(obj, axis, dtype, out, \u001b[39m*\u001b[39m\u001b[39m*\u001b[39mpasskwargs)\n",
      "\u001b[1;31mValueError\u001b[0m: zero-size array to reduction operation maximum which has no identity"
     ]
    }
   ],
   "source": [
    "# get P Q R S T\n",
    "PQRST = []\n",
    "for templates_i, templates in enumerate(templates_lst):\n",
    "    template_PQRST = {\n",
    "        \"P\": [], \n",
    "        \"Q\": [], \n",
    "        \"R\": [], \n",
    "        \"S\": [], \n",
    "        \"T\": [], \n",
    "        \"P_id\": [], \n",
    "        \"Q_id\": [], \n",
    "        \"R_id\": [], \n",
    "        \"S_id\": [], \n",
    "        \"T_id\": [], \n",
    "        \"QRS\": [], \n",
    "        \"PR\": [], \n",
    "        \"PQ\": [], \n",
    "        \"ST\": [], \n",
    "        \"QT\": [], \n",
    "    }\n",
    "    for template_i, template in enumerate(templates):\n",
    "        (P, Q, R, S, T), (P_id, Q_id, R_id, S_id, T_id), (QRS, PR, PQ, ST, QT) = get_PQRST_from_template(template)\n",
    "        template_PQRST[\"P\"].append(P)\n",
    "        template_PQRST[\"Q\"].append(Q)\n",
    "        template_PQRST[\"R\"].append(R)\n",
    "        template_PQRST[\"S\"].append(S)\n",
    "        template_PQRST[\"T\"].append(T)\n",
    "        template_PQRST[\"P_id\"].append(P_id)\n",
    "        template_PQRST[\"Q_id\"].append(Q_id)\n",
    "        template_PQRST[\"R_id\"].append(R_id)\n",
    "        template_PQRST[\"S_id\"].append(S_id)\n",
    "        template_PQRST[\"T_id\"].append(T_id)\n",
    "        template_PQRST[\"QRS\"].append(QRS)\n",
    "        template_PQRST[\"PR\"].append(PR)\n",
    "        template_PQRST[\"PQ\"].append(PQ)\n",
    "        template_PQRST[\"ST\"].append(ST)\n",
    "        template_PQRST[\"QT\"].append(QT)\n",
    "    PQRST.append(template_PQRST)"
   ]
  },
  {
   "cell_type": "code",
   "execution_count": 9,
   "metadata": {},
   "outputs": [
    {
     "data": {
      "text/plain": [
       "[<matplotlib.lines.Line2D at 0x224398afc40>]"
      ]
     },
     "execution_count": 9,
     "metadata": {},
     "output_type": "execute_result"
    },
    {
     "data": {
      "image/png": "[encoded data removed]",
      "text/plain": [
       "<Figure size 640x480 with 1 Axes>"
      ]
     },
     "metadata": {},
     "output_type": "display_data"
    }
   ],
   "source": [
    "# template = templates_lst[3][1]\n",
    "plt.plot(range(template.shape[0]), template)"
   ]
  }
 ],
 "metadata": {
  "kernelspec": {
   "display_name": "aml_project",
   "language": "python",
   "name": "python3"
  },
  "language_info": {
   "codemirror_mode": {
    "name": "ipython",
    "version": 3
   },
   "file_extension": ".py",
   "mimetype": "text/x-python",
   "name": "python",
   "nbconvert_exporter": "python",
   "pygments_lexer": "ipython3",
   "version": "3.10.13"
  }
 },
 "nbformat": 4,
 "nbformat_minor": 2
}
