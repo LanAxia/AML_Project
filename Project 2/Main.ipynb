{
 "cells": [
  {
   "cell_type": "markdown",
   "metadata": {},
   "source": [
    "# Main"
   ]
  },
  {
   "cell_type": "markdown",
   "metadata": {},
   "source": [
    "## Import Libraries"
   ]
  },
  {
   "cell_type": "code",
   "execution_count": 1,
   "metadata": {},
   "outputs": [],
   "source": [
    "# import library\n",
    "import os\n",
    "import numpy as np\n",
    "import pandas as pd\n",
    "import matplotlib.pyplot as plt\n",
    "from tqdm import trange\n",
    "\n",
    "# sklearn\n",
    "import sklearn\n",
    "from sklearn.preprocessing import StandardScaler, RobustScaler\n",
    "from sklearn.impute import KNNImputer, SimpleImputer\n",
    "from sklearn.model_selection import KFold, train_test_split, GridSearchCV\n",
    "from sklearn.feature_selection import RFECV, SelectKBest, r_regression, f_regression\n",
    "from sklearn.gaussian_process.kernels import Matern, RBF, CompoundKernel, Product, Sum, ExpSineSquared, RationalQuadratic\n",
    "from sklearn.gaussian_process import GaussianProcessRegressor\n",
    "from sklearn.svm import SVR\n",
    "from sklearn.ensemble import RandomForestRegressor, IsolationForest, GradientBoostingRegressor, AdaBoostRegressor, ExtraTreesRegressor\n",
    "from sklearn.kernel_ridge import KernelRidge\n",
    "from sklearn.linear_model import LinearRegression\n",
    "from sklearn.metrics import r2_score, make_scorer, f1_score, confusion_matrix\n",
    "from sklearn.decomposition import PCA\n",
    "\n",
    "# boost algorithm\n",
    "import xgboost as xgb\n",
    "import catboost as cat\n",
    "import lightgbm as lgb\n",
    "\n",
    "# torch\n",
    "import torch\n",
    "from torch import nn\n",
    "from torch.nn import Module, Linear, Dropout\n",
    "from torch.nn.functional import tanh, softmax, mse_loss, relu, sigmoid, binary_cross_entropy, nll_loss\n",
    "from torch.optim import Adam, SGD\n",
    "\n",
    "# bio library\n",
    "import biosppy\n",
    "from biosppy import storage\n",
    "from biosppy.signals import ecg\n",
    "\n",
    "# import ResNet\n",
    "from ResNet import ResNet\n",
    "\n",
    "DATA_DIR = \"Data\"\n",
    "RESULT_DIR = \"Result\""
   ]
  },
  {
   "cell_type": "markdown",
   "metadata": {},
   "source": [
    "## Load Features Data"
   ]
  },
  {
   "cell_type": "code",
   "execution_count": 2,
   "metadata": {},
   "outputs": [],
   "source": [
    "# Load Data\n",
    "X_train_df = pd.read_csv(os.path.join(DATA_DIR, \"X_train.csv\"), header=0, index_col=0)\n",
    "X_test_df = pd.read_csv(os.path.join(DATA_DIR, \"X_test.csv\"), header=0, index_col=0)\n",
    "y_train_df = pd.read_csv(os.path.join(DATA_DIR, \"y_train.csv\"), header=0, index_col=0)\n",
    "\n",
    "X_train = X_train_df.values\n",
    "X_test = X_test_df.values\n",
    "y_train = y_train_df.values.ravel()"
   ]
  },
  {
   "cell_type": "code",
   "execution_count": 2,
   "metadata": {},
   "outputs": [],
   "source": [
    "X_train_expert = np.load(\"./Data/X_train_features.npy\")\n",
    "X_train_DNN = np.load(\"./Data/X_train_DNN_features.npy\")\n",
    "y_train = np.load(\"./Data/y_train.npy\")\n",
    "\n",
    "X_test_expert = np.load(\"./Data/X_test_features.npy\")\n",
    "X_test_DNN = np.load(\"./Data/X_test_DNN_features.npy\")"
   ]
  },
  {
   "cell_type": "code",
   "execution_count": 3,
   "metadata": {},
   "outputs": [],
   "source": [
    "X_train_features = np.concatenate([X_train_expert, X_train_DNN], axis=1)\n",
    "X_test_features = np.concatenate([X_test_expert, X_test_DNN], axis=1)"
   ]
  },
  {
   "cell_type": "markdown",
   "metadata": {},
   "source": [
    "## Data Preprocessing"
   ]
  },
  {
   "cell_type": "code",
   "execution_count": 4,
   "metadata": {},
   "outputs": [
    {
     "name": "stderr",
     "output_type": "stream",
     "text": [
      "/Users/lanhongyi/opt/anaconda3/envs/aml_project/lib/python3.11/site-packages/sklearn/feature_selection/_univariate_selection.py:112: UserWarning: Features [24] are constant.\n",
      "  warnings.warn(\"Features %s are constant.\" % constant_features_idx, UserWarning)\n",
      "/Users/lanhongyi/opt/anaconda3/envs/aml_project/lib/python3.11/site-packages/sklearn/feature_selection/_univariate_selection.py:113: RuntimeWarning: invalid value encountered in divide\n",
      "  f = msb / msw\n"
     ]
    }
   ],
   "source": [
    "feature_select = SelectKBest(k=100)\n",
    "feature_select.fit(X_train_features, y_train)\n",
    "X_train_features = feature_select.transform(X_train_features)\n",
    "X_test_features = feature_select.transform(X_test_features)"
   ]
  },
  {
   "cell_type": "markdown",
   "metadata": {},
   "source": [
    "## Train and Test"
   ]
  },
  {
   "cell_type": "code",
   "execution_count": null,
   "metadata": {},
   "outputs": [],
   "source": [
    "# 预测数据\n",
    "# model = cat.CatBoostClassifier(iterations=2000, learning_rate=0.05, max_depth=5)\n",
    "# model.fit(X_train_features, y_train)\n",
    "# result = model.predict(X_test_features)"
   ]
  },
  {
   "cell_type": "code",
   "execution_count": 3,
   "metadata": {},
   "outputs": [
    {
     "name": "stdout",
     "output_type": "stream",
     "text": [
      "load resnet model\n"
     ]
    }
   ],
   "source": [
    "# load cnn model\n",
    "device = torch.device(\"cuda:0\" if torch.cuda.is_available() else \"cpu\")\n",
    "cpu_device = torch.device(\"cpu\")\n",
    "resnet = ResNet(input_channels=1, output_features=32, output_dim=4).to(device)\n",
    "resnet.load_state_dict(torch.load(\"./Model/Resnet_32F.pt\", map_location=device))\n",
    "resnet.eval()\n",
    "print(\"load resnet model\")\n",
    "\n",
    "# process the data\n",
    "X_train_raw = np.nan_to_num(X_train[:, :6000], nan=0)\n",
    "X_train_raw = X_train_raw.reshape((X_train_raw.shape[0], 1, X_train_raw.shape[1]))\n",
    "X_test_raw = np.nan_to_num(X_test[:, :6000], nan=0)\n",
    "X_test_raw = X_test_raw.reshape((X_test_raw.shape[0], 1, X_test_raw.shape[1]))\n",
    "\n",
    "def batch_predict(model: nn.Module, x: np.ndarray, batch_size: int = 64) -> np.ndarray:\n",
    "    x = torch.from_numpy(x).float().to(device)\n",
    "    dataset = torch.utils.data.TensorDataset(x)\n",
    "    dataloader = torch.utils.data.DataLoader(dataset, batch_size=batch_size, shuffle=False)\n",
    "\n",
    "    y_preds = []\n",
    "    for i, (x_batch,) in enumerate(dataloader):\n",
    "        y_pred = torch.argmax(torch.softmax(model(x_batch), dim=-1), dim=1).to(cpu_device).detach().numpy()\n",
    "        y_preds.append(y_pred)\n",
    "    y_preds = np.concatenate(y_preds, axis=0)\n",
    "    return y_preds\n",
    "\n",
    "result = batch_predict(resnet, X_test_raw, batch_size=64)"
   ]
  },
  {
   "cell_type": "code",
   "execution_count": 5,
   "metadata": {},
   "outputs": [],
   "source": [
    "result_df = pd.DataFrame(result.reshape((-1, 1)), columns=[\"y\"]).reset_index()\n",
    "result_df.columns = [\"id\", \"y\"]\n",
    "result_df.to_csv(\"./Result/result_only_dnn.csv\", index=False)"
   ]
  }
 ],
 "metadata": {
  "kernelspec": {
   "display_name": "aml_project",
   "language": "python",
   "name": "python3"
  },
  "language_info": {
   "codemirror_mode": {
    "name": "ipython",
    "version": 3
   },
   "file_extension": ".py",
   "mimetype": "text/x-python",
   "name": "python",
   "nbconvert_exporter": "python",
   "pygments_lexer": "ipython3",
   "version": "3.10.13"
  }
 },
 "nbformat": 4,
 "nbformat_minor": 2
}
