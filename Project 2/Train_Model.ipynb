{
 "cells": [
  {
   "cell_type": "markdown",
   "metadata": {},
   "source": [
    "# Train Model"
   ]
  },
  {
   "cell_type": "markdown",
   "metadata": {},
   "source": [
    "## Import Libraries"
   ]
  },
  {
   "cell_type": "code",
   "execution_count": 1,
   "metadata": {},
   "outputs": [],
   "source": [
    "# import library\n",
    "import os\n",
    "import numpy as np\n",
    "import pandas as pd\n",
    "import matplotlib.pyplot as plt\n",
    "from tqdm import trange\n",
    "\n",
    "# sklearn\n",
    "from sklearn.model_selection import KFold, train_test_split, GridSearchCV\n",
    "from sklearn.metrics import f1_score, confusion_matrix\n",
    "\n",
    "# torch\n",
    "import torch\n",
    "from torch import nn\n",
    "from torch.nn import Module, Linear, Dropout\n",
    "from torch.nn.functional import tanh, softmax, mse_loss, relu, sigmoid, binary_cross_entropy, nll_loss\n",
    "from torch.optim import Adam, SGD\n",
    "\n",
    "# bio library\n",
    "import biosppy\n",
    "from biosppy import storage\n",
    "from biosppy.signals import ecg\n",
    "\n",
    "# 载入CNN模型\n",
    "from ResNet import ResNet, Residual_Block\n",
    "\n",
    "DATA_DIR = \"Data\"\n",
    "RESULT_DIR = \"Result\""
   ]
  },
  {
   "cell_type": "markdown",
   "metadata": {},
   "source": [
    "## Load Data"
   ]
  },
  {
   "cell_type": "code",
   "execution_count": 2,
   "metadata": {},
   "outputs": [],
   "source": [
    "# Load Data\n",
    "X_train_df = pd.read_csv(os.path.join(DATA_DIR, \"X_train.csv\"), header=0, index_col=0)\n",
    "X_test_df = pd.read_csv(os.path.join(DATA_DIR, \"X_test.csv\"), header=0, index_col=0)\n",
    "y_train_df = pd.read_csv(os.path.join(DATA_DIR, \"y_train.csv\"), header=0, index_col=0)\n",
    "\n",
    "X_train = X_train_df.values\n",
    "X_test = X_test_df.values\n",
    "y_train = y_train_df.values.ravel()\n",
    "\n",
    "# 获取有效长度\n",
    "X_train_len = []\n",
    "for row in X_train:\n",
    "    tail_id = np.where(np.isnan(row))[0]\n",
    "    if tail_id.shape[0] > 0:\n",
    "        X_train_len.append(tail_id[0])\n",
    "    else:\n",
    "        X_train_len.append(X_train.shape[1])\n",
    "\n",
    "X_test_len = []\n",
    "for row in X_test:\n",
    "    tail_id = np.where(np.isnan(row))[0]\n",
    "    if tail_id.shape[0] > 0:\n",
    "        X_test_len.append(tail_id[0])\n",
    "    else:\n",
    "        X_test_len.append(X_test.shape[1])\n",
    "\n",
    "X_train_len, X_test_len = np.array(X_train_len), np.array(X_test_len)"
   ]
  },
  {
   "cell_type": "markdown",
   "metadata": {},
   "source": [
    "## Process Data"
   ]
  },
  {
   "cell_type": "code",
   "execution_count": 3,
   "metadata": {},
   "outputs": [],
   "source": [
    "def window_split(x: np.ndarray, y: np.ndarray, x_len: np.ndarray, window_size:  int = 6000, stride: int = 300) -> np.ndarray:\n",
    "    \"\"\"\n",
    "    滑动窗口切分数据\n",
    "    :param x: 数据\n",
    "    :param y: 标签\n",
    "    :param window_size: 窗口大小\n",
    "    :param stride: 步长\n",
    "    :return: 切分后的数据\n",
    "    \"\"\"\n",
    "    new_x = []\n",
    "    new_y = []\n",
    "    pids = []\n",
    "    for pid, (x_row, y_row, x_row_len) in enumerate(zip(x, y, x_len)):\n",
    "        if x_row_len < window_size:\n",
    "            new_x_row = np.concatenate((x_row[:x_row_len], np.zeros((window_size - x_row_len))), axis=0)\n",
    "            new_x.append(new_x_row)\n",
    "            new_y.append(y_row)\n",
    "            pids.append(pid)\n",
    "        else:\n",
    "            for i in range(0, (x_row_len - window_size) // stride + 1):\n",
    "                new_x_row = x_row[i * stride: i * stride + window_size]\n",
    "                new_x.append(new_x_row)\n",
    "                new_y.append(y_row)\n",
    "                pids.append(pid)\n",
    "    return np.array(new_x), np.array(new_y), np.array(pids)\n",
    "\n",
    "new_X_train, new_y_train, train_pids = window_split(X_train, y_train, X_train_len, stride=300)"
   ]
  },
  {
   "cell_type": "markdown",
   "metadata": {},
   "source": [
    "## Train Model"
   ]
  },
  {
   "cell_type": "code",
   "execution_count": 4,
   "metadata": {},
   "outputs": [
    {
     "name": "stderr",
     "output_type": "stream",
     "text": [
      "Training: 100%|██████████| 200/200 [1:55:04<00:00, 34.52s/it, loss=0]    \n"
     ]
    }
   ],
   "source": [
    "# 处理数据\n",
    "device = torch.device(\"cuda:0\" if torch.cuda.is_available() else \"cpu\")\n",
    "cpu_device = torch.device(\"cpu\")\n",
    "\n",
    "new_X_train = torch.from_numpy(new_X_train).float().to(device)\n",
    "new_y_train = torch.from_numpy(new_y_train).long().to(device)\n",
    "# new_X_valid = torch.from_numpy(new_X_valid).float().to(device)\n",
    "# new_y_valid = torch.from_numpy(new_y_valid).long().to(device)\n",
    "\n",
    "dataset = torch.utils.data.TensorDataset(new_X_train, new_y_train)\n",
    "dataloader = torch.utils.data.DataLoader(dataset, batch_size=64, shuffle=True)\n",
    "\n",
    "model = ResNet(input_channels=1, output_features=32, output_dim=4).to(device)\n",
    "optimizer = Adam(model.parameters(), lr=0.001)\n",
    "criterion = nn.CrossEntropyLoss()\n",
    "\n",
    "def score(model, x, y):\n",
    "    \"\"\"\n",
    "    预测\n",
    "    :param model: 模型\n",
    "    :param x: 数据\n",
    "    :return: 预测结果\n",
    "    \"\"\"\n",
    "    model.eval()\n",
    "    with torch.no_grad():\n",
    "        y_preds = []\n",
    "        for i in range(0, x.shape[0], 64):\n",
    "            x_batch = x[i:i + 64, :]\n",
    "            x_batch = x_batch.reshape([x_batch.shape[0], 1, x_batch.shape[1]])\n",
    "            y_pred = model(x_batch)\n",
    "            y_pred = torch.argmax(torch.softmax(y_pred, dim=-1), dim=-1).to(cpu_device).detach().numpy()\n",
    "            y_preds.append(y_pred)\n",
    "        y_preds = np.concatenate(y_preds, axis=0)\n",
    "        score = f1_score(y.to(cpu_device).detach().numpy(), y_preds, average=\"micro\")\n",
    "    model.train()\n",
    "    return score\n",
    "\n",
    "# 训练模型\n",
    "model.train()\n",
    "epochs = 200\n",
    "# f1s = []\n",
    "with trange(epochs, desc=\"Training\") as pbar:\n",
    "    pbar_dict = {}\n",
    "    pbar_dict[\"loss\"] = round(0, 3)\n",
    "    # pbar_dict[\"f1\"] = 0\n",
    "    # f1 = 0\n",
    "    for epoch in pbar:\n",
    "        for X_batch, y_batch in dataloader:\n",
    "            optimizer.zero_grad()\n",
    "            # 处理X_batch\n",
    "            X_batch = X_batch.reshape([X_batch.shape[0], 1, X_batch.shape[1]]) # 输入需要是(sequence_len, 1, batch_size)\n",
    "\n",
    "            y_pred = model(X_batch)\n",
    "            loss = criterion(y_pred, y_batch)\n",
    "            loss.backward()\n",
    "            \n",
    "            pbar_dict[\"loss\"] = round(loss.detach().item(), 3)\n",
    "            # pbar_dict[\"f1\"] = f1\n",
    "            optimizer.step()\n",
    "\n",
    "            pbar.set_postfix(pbar_dict)\n",
    "        # f1 = score(model, new_X_valid, new_y_valid)\n",
    "        # f1s.append(f1)\n",
    "# f1s = np.array(f1s)\n",
    "# np.save(\"./Cache/train_f1_score.npy\", f1s)\n",
    "\n",
    "# score(model, new_X_valid, new_y_valid)\n",
    "torch.save(model.state_dict(), os.path.join(\"Model\", \"Resnet_1024.pt\"))"
   ]
  },
  {
   "cell_type": "code",
   "execution_count": 16,
   "metadata": {},
   "outputs": [],
   "source": [
    "torch.save(model.state_dict(), os.path.join(\"Model\", \"Test_Model\", \"Resnet_test.pt\"))\n",
    "np.save(\"./Model/Test_Model/X_train.npy\", new_X_train.detach().to(cpu_device).numpy())\n",
    "np.save(\"./Model/Test_Model/y_train.npy\", new_y_train.detach().to(cpu_device).numpy())\n",
    "np.save(\"./Model/Test_Model/X_valid.npy\", new_X_valid.detach().to(cpu_device).numpy())\n",
    "np.save(\"./Model/Test_Model/y_valid.npy\", new_y_valid.detach().to(cpu_device).numpy())\n",
    "np.save(\"./Model/Test_Model/f1s.npy\", f1s)"
   ]
  },
  {
   "cell_type": "code",
   "execution_count": 5,
   "metadata": {},
   "outputs": [
    {
     "ename": "NameError",
     "evalue": "name 'new_X_valid' is not defined",
     "output_type": "error",
     "traceback": [
      "\u001b[1;31m---------------------------------------------------------------------------\u001b[0m",
      "\u001b[1;31mNameError\u001b[0m                                 Traceback (most recent call last)",
      "\u001b[1;32mc:\\Users\\Hongyi LAN\\Desktop\\AML_Project\\Project 2\\Train_Model.ipynb 单元格 11\u001b[0m line \u001b[0;36m4\n\u001b[0;32m      <a href='vscode-notebook-cell:/c%3A/Users/Hongyi%20LAN/Desktop/AML_Project/Project%202/Train_Model.ipynb#X13sZmlsZQ%3D%3D?line=1'>2</a>\u001b[0m \u001b[39mwith\u001b[39;00m torch\u001b[39m.\u001b[39mno_grad():\n\u001b[0;32m      <a href='vscode-notebook-cell:/c%3A/Users/Hongyi%20LAN/Desktop/AML_Project/Project%202/Train_Model.ipynb#X13sZmlsZQ%3D%3D?line=2'>3</a>\u001b[0m     y_preds \u001b[39m=\u001b[39m []\n\u001b[1;32m----> <a href='vscode-notebook-cell:/c%3A/Users/Hongyi%20LAN/Desktop/AML_Project/Project%202/Train_Model.ipynb#X13sZmlsZQ%3D%3D?line=3'>4</a>\u001b[0m     \u001b[39mfor\u001b[39;00m i \u001b[39min\u001b[39;00m \u001b[39mrange\u001b[39m(\u001b[39m0\u001b[39m, new_X_valid\u001b[39m.\u001b[39mshape[\u001b[39m0\u001b[39m], \u001b[39m64\u001b[39m):\n\u001b[0;32m      <a href='vscode-notebook-cell:/c%3A/Users/Hongyi%20LAN/Desktop/AML_Project/Project%202/Train_Model.ipynb#X13sZmlsZQ%3D%3D?line=4'>5</a>\u001b[0m         x_batch \u001b[39m=\u001b[39m new_X_valid[i:i \u001b[39m+\u001b[39m \u001b[39m64\u001b[39m, :]\n\u001b[0;32m      <a href='vscode-notebook-cell:/c%3A/Users/Hongyi%20LAN/Desktop/AML_Project/Project%202/Train_Model.ipynb#X13sZmlsZQ%3D%3D?line=5'>6</a>\u001b[0m         x_batch \u001b[39m=\u001b[39m x_batch\u001b[39m.\u001b[39mreshape([x_batch\u001b[39m.\u001b[39mshape[\u001b[39m0\u001b[39m], \u001b[39m1\u001b[39m, x_batch\u001b[39m.\u001b[39mshape[\u001b[39m1\u001b[39m]])\n",
      "\u001b[1;31mNameError\u001b[0m: name 'new_X_valid' is not defined"
     ]
    }
   ],
   "source": [
    "model.eval()\n",
    "with torch.no_grad():\n",
    "    y_preds = []\n",
    "    for i in range(0, new_X_valid.shape[0], 64):\n",
    "        x_batch = new_X_valid[i:i + 64, :]\n",
    "        x_batch = x_batch.reshape([x_batch.shape[0], 1, x_batch.shape[1]])\n",
    "        y_pred = model(x_batch)\n",
    "        y_pred = torch.argmax(torch.softmax(y_pred, dim=-1), dim=-1).to(cpu_device).detach().numpy()\n",
    "        y_preds.append(y_pred)\n",
    "    y_preds = np.concatenate(y_preds, axis=0)\n",
    "model.train()\n",
    "\n",
    "y_preds_class3 = (y_preds == 3).astype(np.int32)\n",
    "y_valid_class3 = (new_y_valid.detach().to(cpu_device).numpy() == 3).astype(np.int32)\n",
    "\n",
    "confusion_matrix(y_preds_class3, y_valid_class3)"
   ]
  },
  {
   "cell_type": "code",
   "execution_count": 6,
   "metadata": {},
   "outputs": [],
   "source": [
    "# np.save(os.path.join(\"Data\", \"new_X_train_1.npy\"), new_X_train.to(cpu_device).detach().numpy())\n",
    "# np.save(os.path.join(\"Data\", \"new_y_train.npy\"), new_y_train.to(cpu_device).detach().numpy())\n",
    "# np.save(os.path.join(\"Data, pids.npy\"), pids)"
   ]
  }
 ],
 "metadata": {
  "kernelspec": {
   "display_name": "aml_project",
   "language": "python",
   "name": "python3"
  },
  "language_info": {
   "codemirror_mode": {
    "name": "ipython",
    "version": 3
   },
   "file_extension": ".py",
   "mimetype": "text/x-python",
   "name": "python",
   "nbconvert_exporter": "python",
   "pygments_lexer": "ipython3",
   "version": "3.10.13"
  }
 },
 "nbformat": 4,
 "nbformat_minor": 2
}
